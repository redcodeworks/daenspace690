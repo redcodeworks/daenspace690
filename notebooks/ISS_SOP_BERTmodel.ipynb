{
 "cells": [
  {
   "cell_type": "code",
   "execution_count": 1,
   "id": "182e509f",
   "metadata": {},
   "outputs": [],
   "source": [
    "import pandas as pd\n",
    "import torch\n",
    "from transformers import BertForSequenceClassification, BertTokenizer\n",
    "from sklearn.metrics import classification_report"
   ]
  },
  {
   "cell_type": "code",
   "execution_count": 2,
   "id": "1c629ad0",
   "metadata": {},
   "outputs": [],
   "source": [
    "# Define the mapping from EPRL tags to integers\n",
    "eprl_map = {\n",
    "    'Action (How)': 0,\n",
    "    'Action (What)': 1,\n",
    "    'Action (Where)': 2,\n",
    "    'Decision (What)': 3,\n",
    "    'Trigger (How)': 4,\n",
    "    'Trigger (What)': 5,\n",
    "    'Trigger (Where)': 6,\n",
    "    'Verification (How)': 7,\n",
    "    'Verification (What)': 8,\n",
    "    'Verification (Where)': 9,\n",
    "    'Waiting (How)': 10,\n",
    "    'Waiting (What)': 11,\n",
    "    'Waiting (Where)': 12\n",
    "}"
   ]
  },
  {
   "cell_type": "code",
   "execution_count": 14,
   "id": "298ed3af",
   "metadata": {},
   "outputs": [
    {
     "data": {
      "text/html": [
       "<div>\n",
       "<style scoped>\n",
       "    .dataframe tbody tr th:only-of-type {\n",
       "        vertical-align: middle;\n",
       "    }\n",
       "\n",
       "    .dataframe tbody tr th {\n",
       "        vertical-align: top;\n",
       "    }\n",
       "\n",
       "    .dataframe thead th {\n",
       "        text-align: right;\n",
       "    }\n",
       "</style>\n",
       "<table border=\"1\" class=\"dataframe\">\n",
       "  <thead>\n",
       "    <tr style=\"text-align: right;\">\n",
       "      <th></th>\n",
       "      <th>FILE</th>\n",
       "      <th>TEXT</th>\n",
       "      <th>EPRL</th>\n",
       "    </tr>\n",
       "  </thead>\n",
       "  <tbody>\n",
       "    <tr>\n",
       "      <th>0</th>\n",
       "      <td>HAL_2_3.pdf</td>\n",
       "      <td>As Required</td>\n",
       "      <td>Trigger (What)</td>\n",
       "    </tr>\n",
       "    <tr>\n",
       "      <th>1</th>\n",
       "      <td>HAL_2_3.pdf</td>\n",
       "      <td>As required</td>\n",
       "      <td>Trigger (What)</td>\n",
       "    </tr>\n",
       "    <tr>\n",
       "      <th>2</th>\n",
       "      <td>HAL_2_3.pdf</td>\n",
       "      <td>As required</td>\n",
       "      <td>Trigger (What)</td>\n",
       "    </tr>\n",
       "    <tr>\n",
       "      <th>3</th>\n",
       "      <td>HAL_2_3.pdf</td>\n",
       "      <td>As required</td>\n",
       "      <td>Trigger (What)</td>\n",
       "    </tr>\n",
       "    <tr>\n",
       "      <th>4</th>\n",
       "      <td>HAL_2_3.pdf</td>\n",
       "      <td>As required</td>\n",
       "      <td>Trigger (What)</td>\n",
       "    </tr>\n",
       "    <tr>\n",
       "      <th>...</th>\n",
       "      <td>...</td>\n",
       "      <td>...</td>\n",
       "      <td>...</td>\n",
       "    </tr>\n",
       "    <tr>\n",
       "      <th>1180</th>\n",
       "      <td>HAL_5_999.pdf</td>\n",
       "      <td>right</td>\n",
       "      <td>Verification (Where)</td>\n",
       "    </tr>\n",
       "    <tr>\n",
       "      <th>1181</th>\n",
       "      <td>HAL_5_999.pdf</td>\n",
       "      <td>left</td>\n",
       "      <td>Verification (Where)</td>\n",
       "    </tr>\n",
       "    <tr>\n",
       "      <th>1182</th>\n",
       "      <td>HAL_5_999.pdf</td>\n",
       "      <td>bottom of screen</td>\n",
       "      <td>Verification (Where)</td>\n",
       "    </tr>\n",
       "    <tr>\n",
       "      <th>1183</th>\n",
       "      <td>HAL_5_999.pdf</td>\n",
       "      <td>bottom</td>\n",
       "      <td>Verification (Where)</td>\n",
       "    </tr>\n",
       "    <tr>\n",
       "      <th>1184</th>\n",
       "      <td>HAL_5_999.pdf</td>\n",
       "      <td>bottom</td>\n",
       "      <td>Verification (Where)</td>\n",
       "    </tr>\n",
       "  </tbody>\n",
       "</table>\n",
       "<p>1185 rows × 3 columns</p>\n",
       "</div>"
      ],
      "text/plain": [
       "               FILE              TEXT                  EPRL\n",
       "0       HAL_2_3.pdf       As Required        Trigger (What)\n",
       "1       HAL_2_3.pdf       As required        Trigger (What)\n",
       "2       HAL_2_3.pdf       As required        Trigger (What)\n",
       "3       HAL_2_3.pdf       As required        Trigger (What)\n",
       "4       HAL_2_3.pdf       As required        Trigger (What)\n",
       "...             ...               ...                   ...\n",
       "1180  HAL_5_999.pdf             right  Verification (Where)\n",
       "1181  HAL_5_999.pdf              left  Verification (Where)\n",
       "1182  HAL_5_999.pdf  bottom of screen  Verification (Where)\n",
       "1183  HAL_5_999.pdf            bottom  Verification (Where)\n",
       "1184  HAL_5_999.pdf            bottom  Verification (Where)\n",
       "\n",
       "[1185 rows x 3 columns]"
      ]
     },
     "execution_count": 14,
     "metadata": {},
     "output_type": "execute_result"
    }
   ],
   "source": [
    "# Load the data\n",
    "data = pd.read_csv('C:/Users/Custom/Downloads/maybe.csv')\n",
    "data"
   ]
  },
  {
   "cell_type": "code",
   "execution_count": 15,
   "id": "ee7b4bce",
   "metadata": {},
   "outputs": [],
   "source": [
    "# Map the EPRL tags to integers\n",
    "data['EPRL'] = data['EPRL'].map(eprl_map)"
   ]
  },
  {
   "cell_type": "code",
   "execution_count": 16,
   "id": "f3930d04",
   "metadata": {},
   "outputs": [
    {
     "data": {
      "application/vnd.jupyter.widget-view+json": {
       "model_id": "918ea373ea794eeeba2f28ab7fb05bfe",
       "version_major": 2,
       "version_minor": 0
      },
      "text/plain": [
       "Downloading:   0%|          | 0.00/570 [00:00<?, ?B/s]"
      ]
     },
     "metadata": {},
     "output_type": "display_data"
    },
    {
     "name": "stderr",
     "output_type": "stream",
     "text": [
      "C:\\Users\\Custom\\anaconda3\\lib\\site-packages\\huggingface_hub\\file_download.py:123: UserWarning: `huggingface_hub` cache-system uses symlinks by default to efficiently store duplicated files but your machine does not support them in C:\\Users\\Custom\\.cache\\huggingface\\hub. Caching files will still work but in a degraded version that might require more space on your disk. This warning can be disabled by setting the `HF_HUB_DISABLE_SYMLINKS_WARNING` environment variable. For more details, see https://huggingface.co/docs/huggingface_hub/how-to-cache#limitations.\n",
      "To support symlinks on Windows, you either need to activate Developer Mode or to run Python as an administrator. In order to see activate developer mode, see this article: https://docs.microsoft.com/en-us/windows/apps/get-started/enable-your-device-for-development\n",
      "  warnings.warn(message)\n"
     ]
    },
    {
     "data": {
      "application/vnd.jupyter.widget-view+json": {
       "model_id": "94a8217b03904280a108e8def1a3d3e0",
       "version_major": 2,
       "version_minor": 0
      },
      "text/plain": [
       "Downloading:   0%|          | 0.00/440M [00:00<?, ?B/s]"
      ]
     },
     "metadata": {},
     "output_type": "display_data"
    },
    {
     "name": "stderr",
     "output_type": "stream",
     "text": [
      "Some weights of the model checkpoint at bert-base-uncased were not used when initializing BertForSequenceClassification: ['cls.predictions.decoder.weight', 'cls.predictions.transform.dense.bias', 'cls.predictions.bias', 'cls.predictions.transform.LayerNorm.bias', 'cls.predictions.transform.dense.weight', 'cls.predictions.transform.LayerNorm.weight', 'cls.seq_relationship.weight', 'cls.seq_relationship.bias']\n",
      "- This IS expected if you are initializing BertForSequenceClassification from the checkpoint of a model trained on another task or with another architecture (e.g. initializing a BertForSequenceClassification model from a BertForPreTraining model).\n",
      "- This IS NOT expected if you are initializing BertForSequenceClassification from the checkpoint of a model that you expect to be exactly identical (initializing a BertForSequenceClassification model from a BertForSequenceClassification model).\n",
      "Some weights of BertForSequenceClassification were not initialized from the model checkpoint at bert-base-uncased and are newly initialized: ['classifier.bias', 'classifier.weight']\n",
      "You should probably TRAIN this model on a down-stream task to be able to use it for predictions and inference.\n"
     ]
    },
    {
     "data": {
      "application/vnd.jupyter.widget-view+json": {
       "model_id": "2d09e1f761b44f83b0bd5652a7c62e55",
       "version_major": 2,
       "version_minor": 0
      },
      "text/plain": [
       "Downloading:   0%|          | 0.00/232k [00:00<?, ?B/s]"
      ]
     },
     "metadata": {},
     "output_type": "display_data"
    },
    {
     "data": {
      "application/vnd.jupyter.widget-view+json": {
       "model_id": "377cccfc02e74fbd9e383a163fc112ef",
       "version_major": 2,
       "version_minor": 0
      },
      "text/plain": [
       "Downloading:   0%|          | 0.00/28.0 [00:00<?, ?B/s]"
      ]
     },
     "metadata": {},
     "output_type": "display_data"
    }
   ],
   "source": [
    "# Load the BERT model and tokenizer\n",
    "model = BertForSequenceClassification.from_pretrained('bert-base-uncased', num_labels=len(eprl_map))\n",
    "tokenizer = BertTokenizer.from_pretrained('bert-base-uncased')"
   ]
  },
  {
   "cell_type": "code",
   "execution_count": 17,
   "id": "c5a8e362",
   "metadata": {},
   "outputs": [],
   "source": [
    "# Define a function to preprocess the text data\n",
    "def preprocess(text):\n",
    "    encoded_text = tokenizer.encode_plus(\n",
    "        text,\n",
    "        add_special_tokens=True,\n",
    "        max_length=64,\n",
    "        padding='max_length',\n",
    "        return_attention_mask=True,\n",
    "        return_tensors='pt'\n",
    "    )\n",
    "    return encoded_text"
   ]
  },
  {
   "cell_type": "code",
   "execution_count": 18,
   "id": "6292a745",
   "metadata": {},
   "outputs": [],
   "source": [
    "# Preprocess the text data and convert it to a tensor\n",
    "inputs = data['TEXT'].apply(preprocess)\n",
    "input_ids = torch.cat([i['input_ids'] for i in inputs])\n",
    "attention_masks = torch.cat([i['attention_mask'] for i in inputs])\n",
    "labels = torch.tensor(data['EPRL'].values)"
   ]
  },
  {
   "cell_type": "code",
   "execution_count": 19,
   "id": "55692d9b",
   "metadata": {},
   "outputs": [],
   "source": [
    "# Define a DataLoader to feed the input to the model\n",
    "from torch.utils.data import TensorDataset, DataLoader\n",
    "\n",
    "dataset = TensorDataset(input_ids, attention_masks, labels)\n",
    "dataloader = DataLoader(dataset, batch_size=32)"
   ]
  },
  {
   "cell_type": "code",
   "execution_count": 20,
   "id": "8aa37776",
   "metadata": {},
   "outputs": [],
   "source": [
    "# Define the training and evaluation loops\n",
    "def train(model, dataloader, optimizer):\n",
    "    model.train()\n",
    "    for batch in dataloader:\n",
    "        optimizer.zero_grad()\n",
    "        outputs = model(input_ids=batch[0], attention_mask=batch[1], labels=batch[2])\n",
    "        loss = outputs.loss\n",
    "        logits = outputs.logits\n",
    "        loss.backward()\n",
    "        optimizer.step()"
   ]
  },
  {
   "cell_type": "code",
   "execution_count": 21,
   "id": "bd9afe0f",
   "metadata": {},
   "outputs": [],
   "source": [
    "def evaluate(model, dataloader):\n",
    "    model.eval()\n",
    "    predictions = []\n",
    "    true_labels = []\n",
    "    for batch in dataloader:\n",
    "        with torch.no_grad():\n",
    "            outputs = model(input_ids=batch[0], attention_mask=batch[1])\n",
    "            logits = outputs.logits\n",
    "            predictions += logits.argmax(-1).cpu().numpy().tolist()\n",
    "            true_labels += batch[2].cpu().numpy().tolist()\n",
    "    report = classification_report(true_labels, predictions, target_names=list(eprl_map.keys()))\n",
    "    return report"
   ]
  },
  {
   "cell_type": "code",
   "execution_count": 22,
   "id": "480afc19",
   "metadata": {},
   "outputs": [],
   "source": [
    "# Define the training parameters\n",
    "optimizer = torch.optim.AdamW(model.parameters(), lr=2e-5)\n",
    "num_epochs = 10"
   ]
  },
  {
   "cell_type": "code",
   "execution_count": null,
   "id": "85e3b18f",
   "metadata": {},
   "outputs": [],
   "source": [
    "# Train the model\n",
    "for epoch in range(num_epochs):\n",
    "    train(model, dataloader, optimizer)\n",
    "    report = evaluate(model, dataloader)\n",
    "    print(f'Epoch {epoch + 1}:\\n{report}')\n",
    "    \n",
    "# Make predictions on the test set\n",
    "model.eval()\n",
    "predictions = []\n",
    "for batch in dataloader:\n",
    "    with torch.no_grad():\n",
    "        outputs = model(input_ids=batch[0], attention_mask=batch[1])\n",
    "        logits = outputs.logits\n",
    "        predictions += logits.argmax(-1).cpu().numpy().tolist()\n",
    "        \n",
    "# Map the predicted integer labels back to EPRL tags\n",
    "predicted_eprl = pd.Series(predictions).map({v: k for k, v in eprl_map.items()})\n",
    "\n",
    "# Add the predicted EPRL tags to the original data\n",
    "data['EPRL_predicted'] = predicted_eprl"
   ]
  },
  {
   "cell_type": "code",
   "execution_count": null,
   "id": "0ca7fc62",
   "metadata": {},
   "outputs": [],
   "source": [
    "# Save the updated data to a CSV file\n",
    "data.to_csv('maybe_with_predictions.csv', index=False)"
   ]
  },
  {
   "cell_type": "code",
   "execution_count": null,
   "id": "75d0c345",
   "metadata": {},
   "outputs": [],
   "source": [
    "import matplotlib.pyplot as plt\n",
    "\n",
    "# Define the epoch and accuracy values\n",
    "epochs = [1, 4, 5, 6, 7, 8, 9, 10]\n",
    "accuracies = [0.78, 0.86, 0.8, 0.9, 0.91, 0.93, 0.93, 0.94]\n",
    "weighted_avgs = [0.74, 0.82, 0.76, 0.88, 0.89, 0.92, 0.92, 0.93]\n",
    "macro_avgs = [0.37, 0.41, 0.43, 0.49, 0.58, 0.68, 0.68, 0.73]\n",
    "\n",
    "# Create three subplots for the different metrics\n",
    "fig, (ax1, ax2, ax3) = plt.subplots(3, 1, sharex=True, figsize=(8, 10))\n",
    "\n",
    "# Plot the accuracy on the first subplot\n",
    "ax1.plot(epochs, accuracies)\n",
    "ax1.set_ylabel('Accuracy')\n",
    "\n",
    "# Plot the weighted average on the second subplot\n",
    "ax2.plot(epochs, weighted_avgs)\n",
    "ax2.set_ylabel('Weighted Average')\n",
    "\n",
    "# Plot the macro average on the third subplot\n",
    "ax3.plot(epochs, macro_avgs)\n",
    "ax3.set_xlabel('Epoch')\n",
    "ax3.set_ylabel('Macro Average')\n",
    "\n",
    "# Add a title to the plot\n",
    "plt.suptitle('Model Performance by Epoch')\n",
    "\n",
    "# Show the plot\n",
    "plt.show()\n"
   ]
  }
 ],
 "metadata": {
  "kernelspec": {
   "display_name": "Python 3 (ipykernel)",
   "language": "python",
   "name": "python3"
  },
  "language_info": {
   "codemirror_mode": {
    "name": "ipython",
    "version": 3
   },
   "file_extension": ".py",
   "mimetype": "text/x-python",
   "name": "python",
   "nbconvert_exporter": "python",
   "pygments_lexer": "ipython3",
   "version": "3.8.8"
  }
 },
 "nbformat": 4,
 "nbformat_minor": 5
}
